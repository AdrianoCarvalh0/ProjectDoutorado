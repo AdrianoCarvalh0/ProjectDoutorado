{
 "cells": [
  {
   "cell_type": "code",
   "execution_count": 2,
   "id": "c07260b6",
   "metadata": {},
   "outputs": [],
   "source": [
    "import os\n",
    "\n",
    "def read_directories(directory, img=None, exclude_json=None):\n",
    "    # Get a list of filenames in the specified directory\n",
    "    filenames = []\n",
    "    for filename in os.listdir(directory):\n",
    "        if img is not None:\n",
    "            # If 'img' is provided, filter filenames containing it\n",
    "            if img in filename:   \n",
    "                filenames.append(filename)\n",
    "        elif exclude_json is not None:\n",
    "            filenames.append(filename.replace('.json',''))     \n",
    "        else:\n",
    "            filenames.append(filename)    \n",
    "    return filenames"
   ]
  },
  {
   "cell_type": "code",
   "execution_count": 7,
   "id": "f59c47e7",
   "metadata": {},
   "outputs": [],
   "source": [
    "import skimage\n",
    "import numpy as np\n",
    "\n",
    "\n",
    "dir_images = '/workspace/ProjetoDoutorado/images_article'\n",
    "dir_images_out = '/workspace/ProjetoDoutorado/images_article_out'\n",
    "\n",
    "array_images = read_directories(dir_images)\n",
    "\n",
    "for image in array_images:\n",
    "    img = skimage.io.imread(f'{dir_images}/{image}')\n",
    "\n",
    "    skimage.io.imsave(f'{dir_images_out}/{image}.png', img.astype(np.uint8))"
   ]
  }
 ],
 "metadata": {
  "kernelspec": {
   "display_name": "base",
   "language": "python",
   "name": "python3"
  },
  "language_info": {
   "codemirror_mode": {
    "name": "ipython",
    "version": 3
   },
   "file_extension": ".py",
   "mimetype": "text/x-python",
   "name": "python",
   "nbconvert_exporter": "python",
   "pygments_lexer": "ipython3",
   "version": "3.10.14"
  }
 },
 "nbformat": 4,
 "nbformat_minor": 5
}
